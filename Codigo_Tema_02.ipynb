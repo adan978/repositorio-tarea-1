{
  "nbformat": 4,
  "nbformat_minor": 0,
  "metadata": {
    "colab": {
      "name": "Codigo_Tema_02.ipynb",
      "provenance": [],
      "collapsed_sections": [],
      "toc_visible": true,
      "include_colab_link": true
    },
    "kernelspec": {
      "name": "python3",
      "display_name": "Python 3"
    }
  },
  "cells": [
    {
      "cell_type": "markdown",
      "metadata": {
        "id": "view-in-github",
        "colab_type": "text"
      },
      "source": [
        "<a href=\"https://colab.research.google.com/github/adan978/repositorio-tarea-1/blob/main/Codigo_Tema_02.ipynb\" target=\"_parent\"><img src=\"https://colab.research.google.com/assets/colab-badge.svg\" alt=\"Open In Colab\"/></a>"
      ]
    },
    {
      "cell_type": "markdown",
      "metadata": {
        "id": "55co2gYtZu1G"
      },
      "source": [
        "# Código Tema 02"
      ]
    },
    {
      "cell_type": "markdown",
      "metadata": {
        "id": "ebnWxHzdZ5xC"
      },
      "source": [
        "[![Open In Colab](https://colab.research.google.com/assets/colab-badge.svg)](https://colab.research.google.com/drive/1-KQVyLAXjBUxxC0OM87L8GrgJodjXAcA?usp=sharing)"
      ]
    },
    {
      "cell_type": "code",
      "metadata": {
        "colab": {
          "base_uri": "https://localhost:8080/"
        },
        "id": "BbkI6HAYKCBD",
        "outputId": "75e217bd-6423-4d79-9cb6-29c2e13a048f"
      },
      "source": [
        "# Creando una variable string\r\n",
        "Mensaje = \"Hola\"\r\n",
        "\r\n",
        "# Imprimiendo la variable\r\n",
        "print(Mensaje)\r\n",
        "\r\n",
        "print(\"\\t¿Como estas? \\n \\tEstoy bien\", Mensaje)\r\n",
        "# \\n es un salto de linea\r\n",
        "# \\t es un tabulador"
      ],
      "execution_count": null,
      "outputs": [
        {
          "output_type": "stream",
          "text": [
            "Hola\n",
            "\t¿Como estas? \n",
            " \tEstoy bien Hola\n"
          ],
          "name": "stdout"
        }
      ]
    },
    {
      "cell_type": "code",
      "metadata": {
        "colab": {
          "base_uri": "https://localhost:8080/"
        },
        "id": "2-sxbblI5EHw",
        "outputId": "3cbd5f5a-7918-4b95-ebd5-4caddf406e04"
      },
      "source": [
        "# Concatenacion de strings\r\n",
        "M_1 = \"Estoy\"\r\n",
        "M_2 = \" dando\"\r\n",
        "M_3 = \" una clase\"\r\n",
        "M_total = M_1 + M_2 + M_3\r\n",
        "\r\n",
        "print(M_total)\r\n",
        "print(M_1 + M_2 + M_3 + \" de Python\")\r\n",
        "\r\n",
        "# No hagan esto\r\n",
        "Numero_1 = \"1\"\r\n",
        "Numero_2 = \"2\"\r\n",
        "Numero_3 = Numero_1 + Numero_2\r\n",
        "print(Numero_3)"
      ],
      "execution_count": null,
      "outputs": [
        {
          "output_type": "stream",
          "text": [
            "Estoy dando una clase\n",
            "Estoy dando una clase de Python\n",
            "12\n"
          ],
          "name": "stdout"
        }
      ]
    },
    {
      "cell_type": "code",
      "metadata": {
        "colab": {
          "base_uri": "https://localhost:8080/"
        },
        "id": "VTKpb-LI6T9Q",
        "outputId": "cd656876-9647-463c-ee21-5432057dc8a6"
      },
      "source": [
        "print(\"¿Cual es tu nombre?\")\r\n",
        "\r\n",
        "# Solicitando al usuario un string\r\n",
        "Nombre = input()\r\n",
        "\r\n",
        "#print(Nombre)\r\n",
        "# Solicitando un string al usuario mediante un mensaje\r\n",
        "Apellido = input(\"¿Cual es tu apellido? \")\r\n",
        "\r\n",
        "print(\"Mi nombre es\", Nombre, Apellido)"
      ],
      "execution_count": null,
      "outputs": [
        {
          "output_type": "stream",
          "text": [
            "¿Cual es tu nombre?\n",
            "David\n",
            "¿Cual es tu apellido? Alba\n",
            "Mi nombre es David Alba\n"
          ],
          "name": "stdout"
        }
      ]
    },
    {
      "cell_type": "markdown",
      "metadata": {
        "id": "Jo_03yXKWMnV"
      },
      "source": [
        "#En esta sección puedes hacer tu tarea\r\n"
      ]
    },
    {
      "cell_type": "code",
      "metadata": {
        "id": "yDlAX9y2WZF-",
        "outputId": "71169bfe-4562-4930-c708-40bb9a5dc4e8",
        "colab": {
          "base_uri": "https://localhost:8080/"
        }
      },
      "source": [
        "# Creando una variable string\r\n",
        "Mensaje = \"Buenas noches\"\r\n",
        "\r\n",
        "\r\n",
        "# Imprimiendo la variable\r\n",
        "print(Mensaje)\r\n",
        "\r\n",
        "print(\"\\t¿Que tal estvo tu dia?\\n \\tEstuvo excelente, gracias\", Mensaje)\r\n",
        "# \\n es un salto de linea\r\n",
        "# \\t es un tabulador"
      ],
      "execution_count": 15,
      "outputs": [
        {
          "output_type": "stream",
          "text": [
            "Buenas noches\n",
            "\t¿Que tal estvo tu dia?\n",
            " \tEstuvo excelente, gracias Buenas noches\n"
          ],
          "name": "stdout"
        }
      ]
    },
    {
      "cell_type": "code",
      "metadata": {
        "colab": {
          "base_uri": "https://localhost:8080/"
        },
        "id": "b1NcVempaSTL",
        "outputId": "d884490c-7d96-4c19-b208-1584e65d6be0"
      },
      "source": [
        "# Concatenacion de strings\r\n",
        "M_1 = \"Estoy\"\r\n",
        "M_2 = \" aprendiendo\"\r\n",
        "M_3 = \" programacion\"\r\n",
        "M_total = M_1 + M_2 + M_3\r\n",
        "\r\n",
        "# print(M_total)\r\n",
        "# print(M_1 + M_2 + M_3 + \" en Python\")\r\n",
        "\r\n",
        "# No hacer esto\r\n",
        "Numero_1 = \"5\"\r\n",
        "Numero_2 = \"5\"\r\n",
        "Numero_3 = Numero_1 + Numero_2\r\n",
        "print(Numero_3)"
      ],
      "execution_count": 21,
      "outputs": [
        {
          "output_type": "stream",
          "text": [
            "55\n"
          ],
          "name": "stdout"
        }
      ]
    },
    {
      "cell_type": "code",
      "metadata": {
        "id": "SYYsmXGjdI7w",
        "outputId": "fb79cf22-3481-4cd1-c0ea-302ffaf41d06",
        "colab": {
          "base_uri": "https://localhost:8080/"
        }
      },
      "source": [
        "print(\"¿Cual es tu nombre?\")\r\n",
        "\r\n",
        "# Solicitando al usuario un string\r\n",
        "Nombre = input()\r\n",
        "\r\n",
        "# print(Nombre)\r\n",
        "# Solicitando un string al usuario mediante un mensaje\r\n",
        "Apellido_1 = input(\"¿Cual es tu primer apellido? \\n\")\r\n",
        "\r\n",
        "# Solicitando un string al usuario mediante un mensaje\r\n",
        "Apellido_2 = input(\"¿Cual es tu segundo apellido \\n\")\r\n",
        "\r\n",
        "print(\"Mi nombre es\", Nombre, Apellido_1, Apellido_2 )"
      ],
      "execution_count": 31,
      "outputs": [
        {
          "output_type": "stream",
          "text": [
            "¿Cual es tu nombre?\n",
            "Adan\n",
            "¿Cual es tu primer apellido? \n",
            "Lopez\n",
            "¿Cual es tu segundo apellido \n",
            "Rodriguez\n",
            "Mi nombre es Adan Lopez Rodriguez\n"
          ],
          "name": "stdout"
        }
      ]
    }
  ]
}